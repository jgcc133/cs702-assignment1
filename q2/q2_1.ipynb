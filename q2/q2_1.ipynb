{
 "cells": [
  {
   "cell_type": "code",
   "execution_count": 1,
   "metadata": {},
   "outputs": [],
   "source": [
    "import jax.numpy as jnp\n",
    "import numpy as np\n",
    "import numpyro\n",
    "import numpyro.distributions as dist\n",
    "import copy\n",
    "from dataclasses import dataclass, field\n",
    "from jax import random\n",
    "from numpyro.infer import MCMC, NUTS, Predictive\n",
    "\n",
    "rng_key = random.PRNGKey(12345)"
   ]
  },
  {
   "cell_type": "code",
   "execution_count": 2,
   "metadata": {},
   "outputs": [
    {
     "name": "stdout",
     "output_type": "stream",
     "text": [
      "0.549834\n"
     ]
    }
   ],
   "source": [
    "# Rasch model\n",
    "def rasch(b, d):\n",
    "    return jnp.exp(b - d) / (1 + jnp.exp(b-d))\n",
    "\n",
    "eg_data = rasch(0.5, 0.3)\n",
    "print(eg_data)"
   ]
  },
  {
   "cell_type": "code",
   "execution_count": 3,
   "metadata": {},
   "outputs": [],
   "source": [
    "# To simulate the process of receiving tasks, \n",
    "# create a function or class that generates data\n",
    "# (Like the Environment class that we used in the lecture note)"
   ]
  },
  {
   "cell_type": "code",
   "execution_count": 4,
   "metadata": {},
   "outputs": [],
   "source": [
    "# Implement at least one bandit algorithm"
   ]
  },
  {
   "cell_type": "code",
   "execution_count": 5,
   "metadata": {},
   "outputs": [],
   "source": [
    "# Perform a simulation study to compare the performance of the algorithms\n",
    "# Then calculate metrics like regret to analyze the performance of the algorithms"
   ]
  },
  {
   "cell_type": "code",
   "execution_count": null,
   "metadata": {},
   "outputs": [],
   "source": []
  }
 ],
 "metadata": {
  "kernelspec": {
   "display_name": "base",
   "language": "python",
   "name": "python3"
  },
  "language_info": {
   "codemirror_mode": {
    "name": "ipython",
    "version": 3
   },
   "file_extension": ".py",
   "mimetype": "text/x-python",
   "name": "python",
   "nbconvert_exporter": "python",
   "pygments_lexer": "ipython3",
   "version": "3.12.7"
  }
 },
 "nbformat": 4,
 "nbformat_minor": 2
}
