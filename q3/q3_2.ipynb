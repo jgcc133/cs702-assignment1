{
 "cells": [
  {
   "cell_type": "code",
   "execution_count": null,
   "metadata": {},
   "outputs": [],
   "source": [
    "import numpy as np\n",
    "\n",
    "def simulate_alex(description_length: float, playback_speed: float) -> float:\n",
    "    \"\"\"\n",
    "    Returns a user satisfaction score between 0 and 1, modeled on Persona A: Alex\n",
    "    \n",
    "    description_length: in [0, 100]\n",
    "    playback_speed:     in [0, 100]\n",
    "    \"\"\"\n",
    "    assert 0 <= description_length <= 100, f\"Invalid description_length: {description_length}\"\n",
    "    assert 0 <= playback_speed <= 100, f\"Invalid playback_speed: {playback_speed}\"\n",
    "\n",
    "    raise NotImplementedError(\"Please implement me!\")\n",
    "\n",
    "def simulate_ben(description_length: float, playback_speed: float) -> float:\n",
    "    \"\"\"\n",
    "    Returns a user satisfaction score between 0 and 1, modeled on Persona B: Ben\n",
    "    \n",
    "    description_length: in [0, 100]\n",
    "    playback_speed:     in [0, 100]\n",
    "    \"\"\"\n",
    "    assert 0 <= description_length <= 100, f\"Invalid description_length: {description_length}\"\n",
    "    assert 0 <= playback_speed <= 100, f\"Invalid playback_speed: {playback_speed}\"\n",
    "\n",
    "    raise NotImplementedError(\"Please implement me!\")"
   ]
  }
 ],
 "metadata": {
  "language_info": {
   "name": "python"
  }
 },
 "nbformat": 4,
 "nbformat_minor": 2
}
